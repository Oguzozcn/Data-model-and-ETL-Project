{
 "cells": [
  {
   "cell_type": "markdown",
   "id": "3fccd1db",
   "metadata": {},
   "source": [
    "Creating a Table with PostgreSQL"
   ]
  },
  {
   "cell_type": "code",
   "execution_count": 2,
   "id": "c1bfd280",
   "metadata": {},
   "outputs": [
    {
     "name": "stdout",
     "output_type": "stream",
     "text": [
      "Collecting psycopg2\n",
      "  Downloading psycopg2-2.9.6-cp310-cp310-win_amd64.whl (1.2 MB)\n",
      "     ---------------------------------------- 1.2/1.2 MB 4.6 MB/s eta 0:00:00\n",
      "Installing collected packages: psycopg2\n",
      "Successfully installed psycopg2-2.9.6\n"
     ]
    }
   ],
   "source": [
    "!pip install psycopg2"
   ]
  },
  {
   "cell_type": "markdown",
   "id": "d1b07c09",
   "metadata": {},
   "source": [
    "Import library (Psycopg2 is a Python library used to connect and interact with PostgreSQL databases)"
   ]
  },
  {
   "cell_type": "code",
   "execution_count": 3,
   "id": "d24b979d",
   "metadata": {},
   "outputs": [],
   "source": [
    "import psycopg2"
   ]
  },
  {
   "cell_type": "markdown",
   "id": "c77cb3e4",
   "metadata": {},
   "source": [
    "Create a connection to the database"
   ]
  },
  {
   "cell_type": "code",
   "execution_count": 4,
   "id": "a9cbc7a3",
   "metadata": {},
   "outputs": [
    {
     "name": "stdout",
     "output_type": "stream",
     "text": [
      "Connection successful!\n"
     ]
    }
   ],
   "source": [
    "try:\n",
    "    conn = psycopg2.connect(\n",
    "        host=\"localhost\",\n",
    "        dbname=\"postgres\",\n",
    "        user=\"postgres\",\n",
    "        password=\"oguz1234\"\n",
    "    )\n",
    "    print(\"Connection successful!\")\n",
    "except psycopg2.Error as e:\n",
    "    print(\"Error: Could not connect to the Postgres database\")\n",
    "    print(e)"
   ]
  },
  {
   "cell_type": "markdown",
   "id": "fbc0793d",
   "metadata": {},
   "source": [
    "Use the connection to get cursor that can be used to executre queries"
   ]
  },
  {
   "cell_type": "code",
   "execution_count": 5,
   "id": "c1127252",
   "metadata": {},
   "outputs": [
    {
     "name": "stdout",
     "output_type": "stream",
     "text": [
      "Cursor created successfully!\n"
     ]
    }
   ],
   "source": [
    "try:\n",
    "    cur = conn.cursor()\n",
    "    print(\"Cursor created successfully!\")\n",
    "except psycopg2.Error as e:\n",
    "    print(\"Error: Could not connect to the Postgres database\")\n",
    "    print(e)"
   ]
  },
  {
   "cell_type": "markdown",
   "id": "8b1284ec",
   "metadata": {},
   "source": [
    "Automatic commit so you dont have to commit every action"
   ]
  },
  {
   "cell_type": "code",
   "execution_count": 6,
   "id": "595ccd47",
   "metadata": {},
   "outputs": [],
   "source": [
    "conn.set_session(autocommit = True)"
   ]
  },
  {
   "cell_type": "markdown",
   "id": "19d5da89",
   "metadata": {},
   "source": [
    "Create a database to do work "
   ]
  },
  {
   "cell_type": "code",
   "execution_count": 7,
   "id": "24a4af61",
   "metadata": {},
   "outputs": [],
   "source": [
    "try: \n",
    "    cur.execute(\"CREATE DATABASE my_db\")\n",
    "except psycopg2.Error as e:\n",
    "    print(e)"
   ]
  },
  {
   "cell_type": "markdown",
   "id": "6b7b37c8",
   "metadata": {},
   "source": [
    "Add the database. Reopenining to connect created database"
   ]
  },
  {
   "cell_type": "code",
   "execution_count": 8,
   "id": "733fecd9",
   "metadata": {},
   "outputs": [
    {
     "name": "stdout",
     "output_type": "stream",
     "text": [
      "Connection successful!\n",
      "Cursor created successfully!\n"
     ]
    }
   ],
   "source": [
    "try:\n",
    "    conn.close()\n",
    "except psycopg2.Error as e:\n",
    "    print(e)\n",
    "\n",
    "try:\n",
    "    conn = psycopg2.connect(\n",
    "        host=\"localhost\",\n",
    "        dbname=\"my_db\",\n",
    "        user=\"postgres\",\n",
    "        password=\"oguz1234\"\n",
    "    )\n",
    "    print(\"Connection successful!\")\n",
    "except psycopg2.Error as e:\n",
    "    print(\"Error: Could not connect to the Postgres database\")\n",
    "    print(e)\n",
    "    \n",
    "try:\n",
    "    cur = conn.cursor()\n",
    "    print(\"Cursor created successfully!\")\n",
    "except psycopg2.Error as e:\n",
    "    print(\"Error: Could not connect to the Postgres database\")\n",
    "    print(e)\n",
    "\n",
    "conn.set_session(autocommit= True)"
   ]
  },
  {
   "cell_type": "markdown",
   "id": "0e8a1fb5",
   "metadata": {},
   "source": [
    "Create Table for students which includes below columns\n",
    "\n",
    "student_id\n",
    "name\n",
    "age\n",
    "gender\n",
    "subject\n",
    "marks"
   ]
  },
  {
   "cell_type": "code",
   "execution_count": 9,
   "id": "390cee5c",
   "metadata": {},
   "outputs": [
    {
     "name": "stdout",
     "output_type": "stream",
     "text": [
      "Table successfully created.\n"
     ]
    }
   ],
   "source": [
    "try:\n",
    "    cur.execute(\"CREATE TABLE IF NOT EXISTS students (student_id int, name varchar,\\\n",
    "                 age int, gender varchar, subject varchar, marks int);\")\n",
    "except psycopg2.Error as e:\n",
    "    print(\"Error: Issue creating table\")\n",
    "    print(e)\n",
    "else:\n",
    "    print(\"Table successfully created.\")"
   ]
  },
  {
   "cell_type": "markdown",
   "id": "22739c42",
   "metadata": {},
   "source": [
    "Inserting the followng two rows \n",
    "\n",
    "First Row: 1, \"Raj\", 23, \"Male\", \"Python\", 85\n",
    "Second Row: 2, \"Priya\", 22, \"Female\", \"Python\", 86"
   ]
  },
  {
   "cell_type": "code",
   "execution_count": 10,
   "id": "bb5a0aa7",
   "metadata": {},
   "outputs": [
    {
     "name": "stdout",
     "output_type": "stream",
     "text": [
      "Rows successfully inserted.\n"
     ]
    }
   ],
   "source": [
    "try:\n",
    "    cur.execute(\"INSERT INTO students (student_id, name, age, gender, subject, marks)\\\n",
    "                VALUES (%s, %s, %s, %s, %s, %s)\", \\\n",
    "                (1, \"Raj\", 23, \"Male\", \"Python\", 85))\n",
    "    cur.execute(\"INSERT INTO students (student_id, name, age, gender, subject, marks)\\\n",
    "                VALUES (%s, %s, %s, %s, %s, %s)\", \\\n",
    "                (2, \"Priya\", 22, \"Female\", \"Python\", 86))\n",
    "except psycopg2.Error as e:\n",
    "    print(\"Error: Inserting Rows\")\n",
    "    print(e)\n",
    "else:\n",
    "    print(\"Rows successfully inserted.\")\n"
   ]
  },
  {
   "cell_type": "markdown",
   "id": "9186b314",
   "metadata": {},
   "source": [
    "Validating data if it is inserted into the table"
   ]
  },
  {
   "cell_type": "code",
   "execution_count": 11,
   "id": "a73ff77e",
   "metadata": {},
   "outputs": [
    {
     "name": "stdout",
     "output_type": "stream",
     "text": [
      "(1, 'Raj', 23, 'Male', 'Python', 85)\n",
      "(2, 'Priya', 22, 'Female', 'Python', 86)\n"
     ]
    }
   ],
   "source": [
    "try:\n",
    "    cur.execute(\"SELECT * FROM students;\")\n",
    "    rows = cur.fetchall()\n",
    "    for row in rows:\n",
    "        print(row)\n",
    "except psycopg2.Error as e:\n",
    "    print(\"Error: select *\")\n",
    "    print(e)\n"
   ]
  },
  {
   "cell_type": "markdown",
   "id": "1f29ba4b",
   "metadata": {},
   "source": [
    "Closing cursor and connection"
   ]
  },
  {
   "cell_type": "code",
   "execution_count": null,
   "id": "ef049ef2",
   "metadata": {},
   "outputs": [],
   "source": [
    "cur.close()\n",
    "conn.close()"
   ]
  }
 ],
 "metadata": {
  "kernelspec": {
   "display_name": "Python 3 (ipykernel)",
   "language": "python",
   "name": "python3"
  },
  "language_info": {
   "codemirror_mode": {
    "name": "ipython",
    "version": 3
   },
   "file_extension": ".py",
   "mimetype": "text/x-python",
   "name": "python",
   "nbconvert_exporter": "python",
   "pygments_lexer": "ipython3",
   "version": "3.10.9"
  }
 },
 "nbformat": 4,
 "nbformat_minor": 5
}
